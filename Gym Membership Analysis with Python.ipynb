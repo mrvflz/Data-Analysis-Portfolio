{
 "cells": [
  {
   "cell_type": "markdown",
   "id": "db777497-8c1a-4421-b42c-8c80300751f9",
   "metadata": {},
   "source": [
    "# Gym Membership Analysis with Python "
   ]
  },
  {
   "cell_type": "markdown",
   "id": "c63dacc0-3212-4884-84a3-ef3a4a0fbbd5",
   "metadata": {},
   "source": [
    "## GOAL"
   ]
  },
  {
   "cell_type": "markdown",
   "id": "91be6da1-7dc2-4911-9cce-dfbdd1f5053b",
   "metadata": {},
   "source": [
    "To understand the behavior, membership types, preferences and activities of gym members by analyzing the Gym Membership dataset. As a result of these analyses, to offer various suggestions for gym managers, to increase customer satisfaction and to develop optimized services according to membership types."
   ]
  },
  {
   "cell_type": "markdown",
   "id": "68fe3a71-b723-4886-989e-fe7adee8423c",
   "metadata": {},
   "source": [
    "## SETUP"
   ]
  },
  {
   "cell_type": "code",
   "execution_count": 3,
   "id": "e3795ffd-9030-4112-a93f-1d203d544cb6",
   "metadata": {},
   "outputs": [],
   "source": [
    "import pandas as pd\n",
    "import numpy as np\n",
    "import seaborn as sns\n",
    "\n",
    "import matplotlib.pyplot as plt\n",
    "import matplotlib.mlab as mlab\n",
    "import matplotlib\n",
    "from matplotlib.pyplot import figure\n",
    "\n",
    "%matplotlib inline\n",
    "matplotlib.rcParams['figure.figsize'] = (5,5) "
   ]
  },
  {
   "cell_type": "code",
   "execution_count": 4,
   "id": "c93c952e-f0b5-4222-9ed2-9aa61301d7f4",
   "metadata": {},
   "outputs": [],
   "source": [
    "#loading the dataset\n",
    "df= pd.read_csv('gym_membership.csv')"
   ]
  },
  {
   "cell_type": "code",
   "execution_count": 5,
   "id": "95455ff0-abf3-4f1f-8d67-09e958254bd0",
   "metadata": {},
   "outputs": [
    {
     "data": {
      "text/html": [
       "<div>\n",
       "<style scoped>\n",
       "    .dataframe tbody tr th:only-of-type {\n",
       "        vertical-align: middle;\n",
       "    }\n",
       "\n",
       "    .dataframe tbody tr th {\n",
       "        vertical-align: top;\n",
       "    }\n",
       "\n",
       "    .dataframe thead th {\n",
       "        text-align: right;\n",
       "    }\n",
       "</style>\n",
       "<table border=\"1\" class=\"dataframe\">\n",
       "  <thead>\n",
       "    <tr style=\"text-align: right;\">\n",
       "      <th></th>\n",
       "      <th>id</th>\n",
       "      <th>gender</th>\n",
       "      <th>birthday</th>\n",
       "      <th>Age</th>\n",
       "      <th>abonoment_type</th>\n",
       "      <th>visit_per_week</th>\n",
       "      <th>days_per_week</th>\n",
       "      <th>attend_group_lesson</th>\n",
       "      <th>fav_group_lesson</th>\n",
       "      <th>avg_time_check_in</th>\n",
       "      <th>avg_time_check_out</th>\n",
       "      <th>avg_time_in_gym</th>\n",
       "      <th>drink_abo</th>\n",
       "      <th>fav_drink</th>\n",
       "      <th>personal_training</th>\n",
       "      <th>name_personal_trainer</th>\n",
       "      <th>uses_sauna</th>\n",
       "    </tr>\n",
       "  </thead>\n",
       "  <tbody>\n",
       "    <tr>\n",
       "      <th>0</th>\n",
       "      <td>1</td>\n",
       "      <td>Female</td>\n",
       "      <td>1997-04-18</td>\n",
       "      <td>27</td>\n",
       "      <td>Premium</td>\n",
       "      <td>4</td>\n",
       "      <td>Mon, Sat, Tue, Wed</td>\n",
       "      <td>True</td>\n",
       "      <td>Kickboxen, BodyPump, Zumba</td>\n",
       "      <td>19:31:00</td>\n",
       "      <td>21:27:00</td>\n",
       "      <td>116</td>\n",
       "      <td>False</td>\n",
       "      <td>NaN</td>\n",
       "      <td>False</td>\n",
       "      <td>NaN</td>\n",
       "      <td>True</td>\n",
       "    </tr>\n",
       "    <tr>\n",
       "      <th>1</th>\n",
       "      <td>2</td>\n",
       "      <td>Female</td>\n",
       "      <td>1977-09-18</td>\n",
       "      <td>47</td>\n",
       "      <td>Standard</td>\n",
       "      <td>3</td>\n",
       "      <td>Mon, Sat, Wed</td>\n",
       "      <td>False</td>\n",
       "      <td>NaN</td>\n",
       "      <td>19:31:00</td>\n",
       "      <td>20:19:00</td>\n",
       "      <td>48</td>\n",
       "      <td>False</td>\n",
       "      <td>NaN</td>\n",
       "      <td>True</td>\n",
       "      <td>Chantal</td>\n",
       "      <td>False</td>\n",
       "    </tr>\n",
       "    <tr>\n",
       "      <th>2</th>\n",
       "      <td>3</td>\n",
       "      <td>Male</td>\n",
       "      <td>1983-03-30</td>\n",
       "      <td>41</td>\n",
       "      <td>Premium</td>\n",
       "      <td>1</td>\n",
       "      <td>Sat</td>\n",
       "      <td>True</td>\n",
       "      <td>XCore</td>\n",
       "      <td>08:29:00</td>\n",
       "      <td>10:32:00</td>\n",
       "      <td>123</td>\n",
       "      <td>True</td>\n",
       "      <td>berry_boost, lemon</td>\n",
       "      <td>True</td>\n",
       "      <td>Mike</td>\n",
       "      <td>False</td>\n",
       "    </tr>\n",
       "    <tr>\n",
       "      <th>3</th>\n",
       "      <td>4</td>\n",
       "      <td>Male</td>\n",
       "      <td>1980-04-12</td>\n",
       "      <td>44</td>\n",
       "      <td>Premium</td>\n",
       "      <td>3</td>\n",
       "      <td>Sat, Tue, Wed</td>\n",
       "      <td>False</td>\n",
       "      <td>NaN</td>\n",
       "      <td>09:54:00</td>\n",
       "      <td>11:33:00</td>\n",
       "      <td>99</td>\n",
       "      <td>True</td>\n",
       "      <td>passion_fruit</td>\n",
       "      <td>True</td>\n",
       "      <td>Mike</td>\n",
       "      <td>True</td>\n",
       "    </tr>\n",
       "    <tr>\n",
       "      <th>4</th>\n",
       "      <td>5</td>\n",
       "      <td>Male</td>\n",
       "      <td>1980-09-10</td>\n",
       "      <td>44</td>\n",
       "      <td>Standard</td>\n",
       "      <td>2</td>\n",
       "      <td>Thu, Wed</td>\n",
       "      <td>True</td>\n",
       "      <td>Running, Yoga, Zumba</td>\n",
       "      <td>08:29:00</td>\n",
       "      <td>09:19:00</td>\n",
       "      <td>50</td>\n",
       "      <td>False</td>\n",
       "      <td>NaN</td>\n",
       "      <td>True</td>\n",
       "      <td>Mike</td>\n",
       "      <td>False</td>\n",
       "    </tr>\n",
       "  </tbody>\n",
       "</table>\n",
       "</div>"
      ],
      "text/plain": [
       "   id  gender    birthday  Age abonoment_type  visit_per_week  \\\n",
       "0   1  Female  1997-04-18   27        Premium               4   \n",
       "1   2  Female  1977-09-18   47       Standard               3   \n",
       "2   3    Male  1983-03-30   41        Premium               1   \n",
       "3   4    Male  1980-04-12   44        Premium               3   \n",
       "4   5    Male  1980-09-10   44       Standard               2   \n",
       "\n",
       "        days_per_week  attend_group_lesson            fav_group_lesson  \\\n",
       "0  Mon, Sat, Tue, Wed                 True  Kickboxen, BodyPump, Zumba   \n",
       "1       Mon, Sat, Wed                False                         NaN   \n",
       "2                 Sat                 True                       XCore   \n",
       "3       Sat, Tue, Wed                False                         NaN   \n",
       "4            Thu, Wed                 True        Running, Yoga, Zumba   \n",
       "\n",
       "  avg_time_check_in avg_time_check_out  avg_time_in_gym  drink_abo  \\\n",
       "0          19:31:00           21:27:00              116      False   \n",
       "1          19:31:00           20:19:00               48      False   \n",
       "2          08:29:00           10:32:00              123       True   \n",
       "3          09:54:00           11:33:00               99       True   \n",
       "4          08:29:00           09:19:00               50      False   \n",
       "\n",
       "            fav_drink  personal_training name_personal_trainer  uses_sauna  \n",
       "0                 NaN              False                   NaN        True  \n",
       "1                 NaN               True               Chantal       False  \n",
       "2  berry_boost, lemon               True                  Mike       False  \n",
       "3       passion_fruit               True                  Mike        True  \n",
       "4                 NaN               True                  Mike       False  "
      ]
     },
     "execution_count": 5,
     "metadata": {},
     "output_type": "execute_result"
    }
   ],
   "source": [
    "df.head()"
   ]
  },
  {
   "cell_type": "code",
   "execution_count": 6,
   "id": "e499f53f-67f7-495e-bb30-6639e33dc91b",
   "metadata": {},
   "outputs": [
    {
     "data": {
      "text/html": [
       "<div>\n",
       "<style scoped>\n",
       "    .dataframe tbody tr th:only-of-type {\n",
       "        vertical-align: middle;\n",
       "    }\n",
       "\n",
       "    .dataframe tbody tr th {\n",
       "        vertical-align: top;\n",
       "    }\n",
       "\n",
       "    .dataframe thead th {\n",
       "        text-align: right;\n",
       "    }\n",
       "</style>\n",
       "<table border=\"1\" class=\"dataframe\">\n",
       "  <thead>\n",
       "    <tr style=\"text-align: right;\">\n",
       "      <th></th>\n",
       "      <th>id</th>\n",
       "      <th>Age</th>\n",
       "      <th>visit_per_week</th>\n",
       "      <th>avg_time_in_gym</th>\n",
       "    </tr>\n",
       "  </thead>\n",
       "  <tbody>\n",
       "    <tr>\n",
       "      <th>count</th>\n",
       "      <td>1000.000000</td>\n",
       "      <td>1000.000000</td>\n",
       "      <td>1000.000000</td>\n",
       "      <td>1000.000000</td>\n",
       "    </tr>\n",
       "    <tr>\n",
       "      <th>mean</th>\n",
       "      <td>500.500000</td>\n",
       "      <td>30.604000</td>\n",
       "      <td>2.682000</td>\n",
       "      <td>105.260000</td>\n",
       "    </tr>\n",
       "    <tr>\n",
       "      <th>std</th>\n",
       "      <td>288.819436</td>\n",
       "      <td>10.817958</td>\n",
       "      <td>1.241941</td>\n",
       "      <td>43.557177</td>\n",
       "    </tr>\n",
       "    <tr>\n",
       "      <th>min</th>\n",
       "      <td>1.000000</td>\n",
       "      <td>12.000000</td>\n",
       "      <td>1.000000</td>\n",
       "      <td>30.000000</td>\n",
       "    </tr>\n",
       "    <tr>\n",
       "      <th>25%</th>\n",
       "      <td>250.750000</td>\n",
       "      <td>21.000000</td>\n",
       "      <td>2.000000</td>\n",
       "      <td>67.000000</td>\n",
       "    </tr>\n",
       "    <tr>\n",
       "      <th>50%</th>\n",
       "      <td>500.500000</td>\n",
       "      <td>30.000000</td>\n",
       "      <td>3.000000</td>\n",
       "      <td>104.000000</td>\n",
       "    </tr>\n",
       "    <tr>\n",
       "      <th>75%</th>\n",
       "      <td>750.250000</td>\n",
       "      <td>40.000000</td>\n",
       "      <td>3.000000</td>\n",
       "      <td>143.000000</td>\n",
       "    </tr>\n",
       "    <tr>\n",
       "      <th>max</th>\n",
       "      <td>1000.000000</td>\n",
       "      <td>49.000000</td>\n",
       "      <td>5.000000</td>\n",
       "      <td>180.000000</td>\n",
       "    </tr>\n",
       "  </tbody>\n",
       "</table>\n",
       "</div>"
      ],
      "text/plain": [
       "                id          Age  visit_per_week  avg_time_in_gym\n",
       "count  1000.000000  1000.000000     1000.000000      1000.000000\n",
       "mean    500.500000    30.604000        2.682000       105.260000\n",
       "std     288.819436    10.817958        1.241941        43.557177\n",
       "min       1.000000    12.000000        1.000000        30.000000\n",
       "25%     250.750000    21.000000        2.000000        67.000000\n",
       "50%     500.500000    30.000000        3.000000       104.000000\n",
       "75%     750.250000    40.000000        3.000000       143.000000\n",
       "max    1000.000000    49.000000        5.000000       180.000000"
      ]
     },
     "execution_count": 6,
     "metadata": {},
     "output_type": "execute_result"
    }
   ],
   "source": [
    "#Basic statistics for numerical data\n",
    "df.describe() "
   ]
  },
  {
   "cell_type": "code",
   "execution_count": 7,
   "id": "efe39240-f47d-4187-b8e7-a49d868853b8",
   "metadata": {},
   "outputs": [
    {
     "name": "stdout",
     "output_type": "stream",
     "text": [
      "<class 'pandas.core.frame.DataFrame'>\n",
      "RangeIndex: 1000 entries, 0 to 999\n",
      "Data columns (total 17 columns):\n",
      " #   Column                 Non-Null Count  Dtype \n",
      "---  ------                 --------------  ----- \n",
      " 0   id                     1000 non-null   int64 \n",
      " 1   gender                 1000 non-null   object\n",
      " 2   birthday               1000 non-null   object\n",
      " 3   Age                    1000 non-null   int64 \n",
      " 4   abonoment_type         1000 non-null   object\n",
      " 5   visit_per_week         1000 non-null   int64 \n",
      " 6   days_per_week          1000 non-null   object\n",
      " 7   attend_group_lesson    1000 non-null   bool  \n",
      " 8   fav_group_lesson       503 non-null    object\n",
      " 9   avg_time_check_in      1000 non-null   object\n",
      " 10  avg_time_check_out     1000 non-null   object\n",
      " 11  avg_time_in_gym        1000 non-null   int64 \n",
      " 12  drink_abo              1000 non-null   bool  \n",
      " 13  fav_drink              496 non-null    object\n",
      " 14  personal_training      1000 non-null   bool  \n",
      " 15  name_personal_trainer  518 non-null    object\n",
      " 16  uses_sauna             1000 non-null   bool  \n",
      "dtypes: bool(4), int64(4), object(9)\n",
      "memory usage: 105.6+ KB\n"
     ]
    }
   ],
   "source": [
    "#Checking the data type of the columns and null values\n",
    "df.info()"
   ]
  },
  {
   "cell_type": "markdown",
   "id": "73764840-58dd-4593-b059-8638ddd4f440",
   "metadata": {},
   "source": [
    "## DATA EXPLORATION"
   ]
  },
  {
   "cell_type": "markdown",
   "id": "508599bf-545f-4230-8794-82845a8292ce",
   "metadata": {},
   "source": [
    "### 1- What is the gender distribution of gym membership?"
   ]
  },
  {
   "cell_type": "code",
   "execution_count": 8,
   "id": "b3883afa-8bb5-4b45-a216-3c833b5b49cf",
   "metadata": {},
   "outputs": [
    {
     "data": {
      "text/plain": [
       "gender\n",
       "Female    503\n",
       "Male      497\n",
       "Name: count, dtype: int64"
      ]
     },
     "execution_count": 8,
     "metadata": {},
     "output_type": "execute_result"
    }
   ],
   "source": [
    "df['gender'].value_counts()"
   ]
  },
  {
   "cell_type": "code",
   "execution_count": 9,
   "id": "7fadd189-a6e0-4fb7-a560-6ed545cb2687",
   "metadata": {},
   "outputs": [
    {
     "data": {
      "image/png": "[encoded data removed]",
      "text/plain": [
       "<Figure size 500x500 with 1 Axes>"
      ]
     },
     "metadata": {},
     "output_type": "display_data"
    }
   ],
   "source": [
    "x= list(df['gender'].value_counts())\n",
    "y= list(df['gender'].value_counts().keys())\n",
    "plt.pie(x, labels= y , autopct= '%0.1f%%', colors=['red','blue'])\n",
    "plt.title(label=\"Gender Distribution \", fontdict={\"fontsize\":16},pad=20)\n",
    "plt.show()"
   ]
  },
  {
   "cell_type": "markdown",
   "id": "e4849b11-afd1-4f55-84dd-8f455520bd8e",
   "metadata": {},
   "source": [
    "### 2- What is the age group distribution of gym membership?"
   ]
  },
  {
   "cell_type": "code",
   "execution_count": 10,
   "id": "151f8656-2f58-4455-b0df-098c72fba282",
   "metadata": {},
   "outputs": [],
   "source": [
    "bins = [0, 18, 30, 40, float('inf')]  # Age ranges\n",
    "labels = ['Under 18 yo ', '20-30 yo', '30-40 yo', 'Over 40 yo ']  # Category tags\n",
    "\n",
    "df['age_category'] = pd.cut(df['Age'], bins=bins, labels=labels, right=False)  "
   ]
  },
  {
   "cell_type": "code",
   "execution_count": 56,
   "id": "b393ccdb-afd4-4c76-a356-c378bf2107dc",
   "metadata": {},
   "outputs": [
    {
     "data": {
      "image/png": "[encoded data removed]",
      "text/plain": [
       "<Figure size 500x500 with 1 Axes>"
      ]
     },
     "metadata": {},
     "output_type": "display_data"
    }
   ],
   "source": [
    "sns.countplot(data=df, x='age_category', color='purple')\n",
    "plt.title('Age Group Distribution')\n",
    "plt.xlabel('Age Category')\n",
    "plt.xticks(rotation=45)\n",
    "plt.show()"
   ]
  },
  {
   "cell_type": "code",
   "execution_count": 23,
   "id": "fc1bb45c-adf6-461f-bfb8-6df2ed476ab5",
   "metadata": {},
   "outputs": [
    {
     "data": {
      "text/plain": [
       "name_personal_trainer\n",
       "Chantal    153\n",
       "Mike       140\n",
       "Hanna      114\n",
       "Jeffrey    111\n",
       "Name: count, dtype: int64"
      ]
     },
     "execution_count": 23,
     "metadata": {},
     "output_type": "execute_result"
    }
   ],
   "source": [
    "df['name_personal_trainer'].value_counts()"
   ]
  },
  {
   "cell_type": "markdown",
   "id": "86e874e8-f359-4319-9bef-e97f650fe8af",
   "metadata": {},
   "source": [
    "### 3- How much time do people spend on average in the gym?"
   ]
  },
  {
   "cell_type": "code",
   "execution_count": 69,
   "id": "652afda6-92df-4d20-891f-b00015b5b421",
   "metadata": {},
   "outputs": [
    {
     "name": "stdout",
     "output_type": "stream",
     "text": [
      "Average time in the gym: 1 hours 45 minutes\n"
     ]
    }
   ],
   "source": [
    "avg_time_in_gym = df['avg_time_in_gym'].mean()\n",
    "\n",
    "hours = int(avg_time_in_gym // 60)\n",
    "minutes = int(avg_time_in_gym % 60) \n",
    "\n",
    "print(f\"Average time in the gym: {hours} hours {minutes} minutes\")"
   ]
  },
  {
   "cell_type": "markdown",
   "id": "594adf83-3fa6-4fb9-aa97-495f150bb583",
   "metadata": {},
   "source": [
    "### 4- What are your top 5 favorite drinks at the gym?"
   ]
  },
  {
   "cell_type": "code",
   "execution_count": 71,
   "id": "32d8935b-2df6-496b-9076-eb3f892ed43d",
   "metadata": {},
   "outputs": [
    {
     "data": {
      "image/png": "[encoded data removed]",
      "text/plain": [
       "<Figure size 500x500 with 1 Axes>"
      ]
     },
     "metadata": {},
     "output_type": "display_data"
    }
   ],
   "source": [
    "a= list(df['fav_drink'].value_counts()[0:5].keys())\n",
    "b= list(df['fav_drink'].value_counts()[0:5])\n",
    "sns.barplot(x=a, y=b, width=0.5, color='green')\n",
    "\n",
    "\n",
    "plt.title('5 Favorite Drink', fontsize=16)\n",
    "plt.tight_layout()\n",
    "\n",
    "plt.show()"
   ]
  },
  {
   "cell_type": "code",
   "execution_count": 72,
   "id": "8e873e6f-e270-435e-b4f4-8c228311c572",
   "metadata": {},
   "outputs": [
    {
     "data": {
      "text/html": [
       "<div>\n",
       "<style scoped>\n",
       "    .dataframe tbody tr th:only-of-type {\n",
       "        vertical-align: middle;\n",
       "    }\n",
       "\n",
       "    .dataframe tbody tr th {\n",
       "        vertical-align: top;\n",
       "    }\n",
       "\n",
       "    .dataframe thead th {\n",
       "        text-align: right;\n",
       "    }\n",
       "</style>\n",
       "<table border=\"1\" class=\"dataframe\">\n",
       "  <thead>\n",
       "    <tr style=\"text-align: right;\">\n",
       "      <th></th>\n",
       "      <th>id</th>\n",
       "      <th>gender</th>\n",
       "      <th>birthday</th>\n",
       "      <th>Age</th>\n",
       "      <th>abonoment_type</th>\n",
       "      <th>visit_per_week</th>\n",
       "      <th>days_per_week</th>\n",
       "      <th>attend_group_lesson</th>\n",
       "      <th>fav_group_lesson</th>\n",
       "      <th>avg_time_check_in</th>\n",
       "      <th>avg_time_check_out</th>\n",
       "      <th>avg_time_in_gym</th>\n",
       "      <th>drink_abo</th>\n",
       "      <th>fav_drink</th>\n",
       "      <th>personal_training</th>\n",
       "      <th>name_personal_trainer</th>\n",
       "      <th>uses_sauna</th>\n",
       "      <th>age_category</th>\n",
       "    </tr>\n",
       "  </thead>\n",
       "  <tbody>\n",
       "    <tr>\n",
       "      <th>0</th>\n",
       "      <td>1</td>\n",
       "      <td>Female</td>\n",
       "      <td>1997-04-18</td>\n",
       "      <td>27</td>\n",
       "      <td>Premium</td>\n",
       "      <td>4</td>\n",
       "      <td>Mon, Sat, Tue, Wed</td>\n",
       "      <td>True</td>\n",
       "      <td>Kickboxen, BodyPump, Zumba</td>\n",
       "      <td>19:31:00</td>\n",
       "      <td>21:27:00</td>\n",
       "      <td>116</td>\n",
       "      <td>False</td>\n",
       "      <td>NaN</td>\n",
       "      <td>False</td>\n",
       "      <td>NaN</td>\n",
       "      <td>True</td>\n",
       "      <td>20-30 yo</td>\n",
       "    </tr>\n",
       "    <tr>\n",
       "      <th>1</th>\n",
       "      <td>2</td>\n",
       "      <td>Female</td>\n",
       "      <td>1977-09-18</td>\n",
       "      <td>47</td>\n",
       "      <td>Standard</td>\n",
       "      <td>3</td>\n",
       "      <td>Mon, Sat, Wed</td>\n",
       "      <td>False</td>\n",
       "      <td>NaN</td>\n",
       "      <td>19:31:00</td>\n",
       "      <td>20:19:00</td>\n",
       "      <td>48</td>\n",
       "      <td>False</td>\n",
       "      <td>NaN</td>\n",
       "      <td>True</td>\n",
       "      <td>Chantal</td>\n",
       "      <td>False</td>\n",
       "      <td>Over 40 yo</td>\n",
       "    </tr>\n",
       "    <tr>\n",
       "      <th>2</th>\n",
       "      <td>3</td>\n",
       "      <td>Male</td>\n",
       "      <td>1983-03-30</td>\n",
       "      <td>41</td>\n",
       "      <td>Premium</td>\n",
       "      <td>1</td>\n",
       "      <td>Sat</td>\n",
       "      <td>True</td>\n",
       "      <td>XCore</td>\n",
       "      <td>08:29:00</td>\n",
       "      <td>10:32:00</td>\n",
       "      <td>123</td>\n",
       "      <td>True</td>\n",
       "      <td>berry_boost, lemon</td>\n",
       "      <td>True</td>\n",
       "      <td>Mike</td>\n",
       "      <td>False</td>\n",
       "      <td>Over 40 yo</td>\n",
       "    </tr>\n",
       "    <tr>\n",
       "      <th>3</th>\n",
       "      <td>4</td>\n",
       "      <td>Male</td>\n",
       "      <td>1980-04-12</td>\n",
       "      <td>44</td>\n",
       "      <td>Premium</td>\n",
       "      <td>3</td>\n",
       "      <td>Sat, Tue, Wed</td>\n",
       "      <td>False</td>\n",
       "      <td>NaN</td>\n",
       "      <td>09:54:00</td>\n",
       "      <td>11:33:00</td>\n",
       "      <td>99</td>\n",
       "      <td>True</td>\n",
       "      <td>passion_fruit</td>\n",
       "      <td>True</td>\n",
       "      <td>Mike</td>\n",
       "      <td>True</td>\n",
       "      <td>Over 40 yo</td>\n",
       "    </tr>\n",
       "    <tr>\n",
       "      <th>4</th>\n",
       "      <td>5</td>\n",
       "      <td>Male</td>\n",
       "      <td>1980-09-10</td>\n",
       "      <td>44</td>\n",
       "      <td>Standard</td>\n",
       "      <td>2</td>\n",
       "      <td>Thu, Wed</td>\n",
       "      <td>True</td>\n",
       "      <td>Running, Yoga, Zumba</td>\n",
       "      <td>08:29:00</td>\n",
       "      <td>09:19:00</td>\n",
       "      <td>50</td>\n",
       "      <td>False</td>\n",
       "      <td>NaN</td>\n",
       "      <td>True</td>\n",
       "      <td>Mike</td>\n",
       "      <td>False</td>\n",
       "      <td>Over 40 yo</td>\n",
       "    </tr>\n",
       "  </tbody>\n",
       "</table>\n",
       "</div>"
      ],
      "text/plain": [
       "   id  gender    birthday  Age abonoment_type  visit_per_week  \\\n",
       "0   1  Female  1997-04-18   27        Premium               4   \n",
       "1   2  Female  1977-09-18   47       Standard               3   \n",
       "2   3    Male  1983-03-30   41        Premium               1   \n",
       "3   4    Male  1980-04-12   44        Premium               3   \n",
       "4   5    Male  1980-09-10   44       Standard               2   \n",
       "\n",
       "        days_per_week  attend_group_lesson            fav_group_lesson  \\\n",
       "0  Mon, Sat, Tue, Wed                 True  Kickboxen, BodyPump, Zumba   \n",
       "1       Mon, Sat, Wed                False                         NaN   \n",
       "2                 Sat                 True                       XCore   \n",
       "3       Sat, Tue, Wed                False                         NaN   \n",
       "4            Thu, Wed                 True        Running, Yoga, Zumba   \n",
       "\n",
       "  avg_time_check_in avg_time_check_out  avg_time_in_gym  drink_abo  \\\n",
       "0          19:31:00           21:27:00              116      False   \n",
       "1          19:31:00           20:19:00               48      False   \n",
       "2          08:29:00           10:32:00              123       True   \n",
       "3          09:54:00           11:33:00               99       True   \n",
       "4          08:29:00           09:19:00               50      False   \n",
       "\n",
       "            fav_drink  personal_training name_personal_trainer  uses_sauna  \\\n",
       "0                 NaN              False                   NaN        True   \n",
       "1                 NaN               True               Chantal       False   \n",
       "2  berry_boost, lemon               True                  Mike       False   \n",
       "3       passion_fruit               True                  Mike        True   \n",
       "4                 NaN               True                  Mike       False   \n",
       "\n",
       "  age_category  \n",
       "0     20-30 yo  \n",
       "1  Over 40 yo   \n",
       "2  Over 40 yo   \n",
       "3  Over 40 yo   \n",
       "4  Over 40 yo   "
      ]
     },
     "execution_count": 72,
     "metadata": {},
     "output_type": "execute_result"
    }
   ],
   "source": [
    "df.head()\n"
   ]
  },
  {
   "cell_type": "markdown",
   "id": "7a893525-a295-40a1-91ce-de31ff76a3a9",
   "metadata": {},
   "source": [
    "### 5- What percentage of people attend group classes? Which group classes are their favorite?"
   ]
  },
  {
   "cell_type": "code",
   "execution_count": 73,
   "id": "1c6f13ab-8a88-43ea-89b0-320cfa84ba0e",
   "metadata": {},
   "outputs": [
    {
     "data": {
      "image/png": "[encoded data removed]",
      "text/plain": [
       "<Figure size 500x500 with 1 Axes>"
      ]
     },
     "metadata": {},
     "output_type": "display_data"
    }
   ],
   "source": [
    "x= list(df['attend_group_lesson'].value_counts())\n",
    "y= list(df['attend_group_lesson'].value_counts().keys())\n",
    "plt.pie(x, labels= y , autopct= '%0.1f%%', colors=['red','blue'])\n",
    "plt.title(label=\"Attending Group Lesson Distribution \", fontdict={\"fontsize\":16},pad=20)\n",
    "plt.show()"
   ]
  },
  {
   "cell_type": "code",
   "execution_count": 83,
   "id": "de37b721-57a7-4c00-8091-bf1f1ab54e79",
   "metadata": {},
   "outputs": [
    {
     "data": {
      "text/plain": [
       "fav_group_lesson\n",
       "Yoga        20\n",
       "BodyPump    20\n",
       "LesMiles    19\n",
       "XCore       18\n",
       "Pilates     18\n",
       "Name: count, dtype: int64"
      ]
     },
     "execution_count": 83,
     "metadata": {},
     "output_type": "execute_result"
    }
   ],
   "source": [
    "df['fav_group_lesson'].value_counts().head()"
   ]
  },
  {
   "cell_type": "markdown",
   "id": "30752ccd-1ba3-4b97-8c64-0cd9d50ce7cd",
   "metadata": {},
   "source": [
    "### 6- What is the distribution of personal trainers by customer's gender?"
   ]
  },
  {
   "cell_type": "code",
   "execution_count": 94,
   "id": "a71e8f99-37d9-4c30-9728-1c9fc748a079",
   "metadata": {},
   "outputs": [
    {
     "data": {
      "image/png": "[encoded data removed]",
      "text/plain": [
       "<Figure size 500x500 with 1 Axes>"
      ]
     },
     "metadata": {},
     "output_type": "display_data"
    }
   ],
   "source": [
    "gender_count = df.groupby(['name_personal_trainer', 'gender']).size().reset_index(name='count')\n",
    "\n",
    "sns.barplot(data=gender_count, x='name_personal_trainer', y='count', hue='gender')\n",
    "\n",
    "plt.title('Personal Trainer\\'s Customer Gender Distribution', fontsize=16)\n",
    "plt.xlabel('Personal Trainer', fontsize=12)\n",
    "plt.ylabel('Customer Count', fontsize=12)\n",
    "plt.xticks(rotation=45)\n",
    "\n",
    "plt.tight_layout()\n",
    "plt.show()\n"
   ]
  }
 ],
 "metadata": {
  "kernelspec": {
   "display_name": "Python 3 (ipykernel)",
   "language": "python",
   "name": "python3"
  },
  "language_info": {
   "codemirror_mode": {
    "name": "ipython",
    "version": 3
   },
   "file_extension": ".py",
   "mimetype": "text/x-python",
   "name": "python",
   "nbconvert_exporter": "python",
   "pygments_lexer": "ipython3",
   "version": "3.12.3"
  }
 },
 "nbformat": 4,
 "nbformat_minor": 5
}
